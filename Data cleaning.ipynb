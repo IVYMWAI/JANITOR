{
 "cells": [
  {
   "cell_type": "code",
   "execution_count": 3,
   "metadata": {},
   "outputs": [],
   "source": [
    "#Loading the data in jupyter notebook\n",
    "import numpy as np\n",
    "import pandas as pd\n",
    "import datetime\n",
    "data=pd.read_csv(\"Open Airbnb Data.csv\")"
   ]
  },
  {
   "cell_type": "code",
   "execution_count": 4,
   "metadata": {},
   "outputs": [
    {
     "name": "stdout",
     "output_type": "stream",
     "text": [
      "Index(['id', 'name', 'host_id', 'host_identity_verified', 'host_name',\n",
      "       'neighbourhood_group', 'neighbourhood', 'latitude', 'longitude',\n",
      "       'country', 'country_code', 'instant_bookable', 'cancellation_policy',\n",
      "       'room_type', 'Construction_year', 'price', 'service_fee',\n",
      "       'minimum_nights', 'number_of_reviews', 'last_review',\n",
      "       'reviews_per_month', 'review_rate_number',\n",
      "       'calculated_host_listings_count', 'availability_365', 'house_rules',\n",
      "       'license'],\n",
      "      dtype='object')\n"
     ]
    }
   ],
   "source": [
    "#Changing the dataheads to snake_case\n",
    "data.columns=data.columns.str.replace(\" \",\"_\")\n",
    "print(data.columns)"
   ]
  },
  {
   "cell_type": "code",
   "execution_count": 5,
   "metadata": {},
   "outputs": [
    {
     "data": {
      "text/html": [
       "<div>\n",
       "<style scoped>\n",
       "    .dataframe tbody tr th:only-of-type {\n",
       "        vertical-align: middle;\n",
       "    }\n",
       "\n",
       "    .dataframe tbody tr th {\n",
       "        vertical-align: top;\n",
       "    }\n",
       "\n",
       "    .dataframe thead th {\n",
       "        text-align: right;\n",
       "    }\n",
       "</style>\n",
       "<table border=\"1\" class=\"dataframe\">\n",
       "  <thead>\n",
       "    <tr style=\"text-align: right;\">\n",
       "      <th></th>\n",
       "      <th>id</th>\n",
       "      <th>name</th>\n",
       "      <th>host_id</th>\n",
       "      <th>host_identity_verified</th>\n",
       "      <th>host_name</th>\n",
       "      <th>neighbourhood_group</th>\n",
       "      <th>neighbourhood</th>\n",
       "      <th>latitude</th>\n",
       "      <th>longitude</th>\n",
       "      <th>country</th>\n",
       "      <th>...</th>\n",
       "      <th>service_fee</th>\n",
       "      <th>minimum_nights</th>\n",
       "      <th>number_of_reviews</th>\n",
       "      <th>last_review</th>\n",
       "      <th>reviews_per_month</th>\n",
       "      <th>review_rate_number</th>\n",
       "      <th>calculated_host_listings_count</th>\n",
       "      <th>availability_365</th>\n",
       "      <th>house_rules</th>\n",
       "      <th>license</th>\n",
       "    </tr>\n",
       "  </thead>\n",
       "  <tbody>\n",
       "    <tr>\n",
       "      <th>0</th>\n",
       "      <td>1001254</td>\n",
       "      <td>Clean &amp; quiet apt home by the park</td>\n",
       "      <td>80014485718</td>\n",
       "      <td>unconfirmed</td>\n",
       "      <td>Madaline</td>\n",
       "      <td>Brooklyn</td>\n",
       "      <td>Kensington</td>\n",
       "      <td>40.64749</td>\n",
       "      <td>-73.97237</td>\n",
       "      <td>United States</td>\n",
       "      <td>...</td>\n",
       "      <td>$193</td>\n",
       "      <td>10.0</td>\n",
       "      <td>9.0</td>\n",
       "      <td>10/19/2021</td>\n",
       "      <td>0.21</td>\n",
       "      <td>4.0</td>\n",
       "      <td>6.0</td>\n",
       "      <td>286.0</td>\n",
       "      <td>Clean up and treat the home the way you'd like...</td>\n",
       "      <td>NaN</td>\n",
       "    </tr>\n",
       "    <tr>\n",
       "      <th>1</th>\n",
       "      <td>1002102</td>\n",
       "      <td>Skylit Midtown Castle</td>\n",
       "      <td>52335172823</td>\n",
       "      <td>verified</td>\n",
       "      <td>Jenna</td>\n",
       "      <td>Manhattan</td>\n",
       "      <td>Midtown</td>\n",
       "      <td>40.75362</td>\n",
       "      <td>-73.98377</td>\n",
       "      <td>United States</td>\n",
       "      <td>...</td>\n",
       "      <td>$28</td>\n",
       "      <td>30.0</td>\n",
       "      <td>45.0</td>\n",
       "      <td>5/21/2022</td>\n",
       "      <td>0.38</td>\n",
       "      <td>4.0</td>\n",
       "      <td>2.0</td>\n",
       "      <td>228.0</td>\n",
       "      <td>Pet friendly but please confirm with me if the...</td>\n",
       "      <td>NaN</td>\n",
       "    </tr>\n",
       "    <tr>\n",
       "      <th>2</th>\n",
       "      <td>1002403</td>\n",
       "      <td>THE VILLAGE OF HARLEM....NEW YORK !</td>\n",
       "      <td>78829239556</td>\n",
       "      <td>NaN</td>\n",
       "      <td>Elise</td>\n",
       "      <td>Manhattan</td>\n",
       "      <td>Harlem</td>\n",
       "      <td>40.80902</td>\n",
       "      <td>-73.94190</td>\n",
       "      <td>United States</td>\n",
       "      <td>...</td>\n",
       "      <td>$124</td>\n",
       "      <td>3.0</td>\n",
       "      <td>0.0</td>\n",
       "      <td>NaN</td>\n",
       "      <td>NaN</td>\n",
       "      <td>5.0</td>\n",
       "      <td>1.0</td>\n",
       "      <td>352.0</td>\n",
       "      <td>I encourage you to use my kitchen, cooking and...</td>\n",
       "      <td>NaN</td>\n",
       "    </tr>\n",
       "    <tr>\n",
       "      <th>3</th>\n",
       "      <td>1002755</td>\n",
       "      <td>NaN</td>\n",
       "      <td>85098326012</td>\n",
       "      <td>unconfirmed</td>\n",
       "      <td>Garry</td>\n",
       "      <td>Brooklyn</td>\n",
       "      <td>Clinton Hill</td>\n",
       "      <td>40.68514</td>\n",
       "      <td>-73.95976</td>\n",
       "      <td>United States</td>\n",
       "      <td>...</td>\n",
       "      <td>$74</td>\n",
       "      <td>30.0</td>\n",
       "      <td>270.0</td>\n",
       "      <td>07/05/2019</td>\n",
       "      <td>4.64</td>\n",
       "      <td>4.0</td>\n",
       "      <td>1.0</td>\n",
       "      <td>322.0</td>\n",
       "      <td>NaN</td>\n",
       "      <td>NaN</td>\n",
       "    </tr>\n",
       "    <tr>\n",
       "      <th>4</th>\n",
       "      <td>1003689</td>\n",
       "      <td>Entire Apt: Spacious Studio/Loft by central park</td>\n",
       "      <td>92037596077</td>\n",
       "      <td>verified</td>\n",
       "      <td>Lyndon</td>\n",
       "      <td>Manhattan</td>\n",
       "      <td>East Harlem</td>\n",
       "      <td>40.79851</td>\n",
       "      <td>-73.94399</td>\n",
       "      <td>United States</td>\n",
       "      <td>...</td>\n",
       "      <td>$41</td>\n",
       "      <td>10.0</td>\n",
       "      <td>9.0</td>\n",
       "      <td>11/19/2018</td>\n",
       "      <td>0.10</td>\n",
       "      <td>3.0</td>\n",
       "      <td>1.0</td>\n",
       "      <td>289.0</td>\n",
       "      <td>Please no smoking in the house, porch or on th...</td>\n",
       "      <td>NaN</td>\n",
       "    </tr>\n",
       "  </tbody>\n",
       "</table>\n",
       "<p>5 rows × 26 columns</p>\n",
       "</div>"
      ],
      "text/plain": [
       "        id                                              name      host_id  \\\n",
       "0  1001254                Clean & quiet apt home by the park  80014485718   \n",
       "1  1002102                             Skylit Midtown Castle  52335172823   \n",
       "2  1002403               THE VILLAGE OF HARLEM....NEW YORK !  78829239556   \n",
       "3  1002755                                               NaN  85098326012   \n",
       "4  1003689  Entire Apt: Spacious Studio/Loft by central park  92037596077   \n",
       "\n",
       "  host_identity_verified host_name neighbourhood_group neighbourhood  \\\n",
       "0            unconfirmed  Madaline            Brooklyn    Kensington   \n",
       "1               verified     Jenna           Manhattan       Midtown   \n",
       "2                    NaN     Elise           Manhattan        Harlem   \n",
       "3            unconfirmed     Garry            Brooklyn  Clinton Hill   \n",
       "4               verified    Lyndon           Manhattan   East Harlem   \n",
       "\n",
       "   latitude  longitude        country  ... service_fee minimum_nights  \\\n",
       "0  40.64749  -73.97237  United States  ...       $193            10.0   \n",
       "1  40.75362  -73.98377  United States  ...        $28            30.0   \n",
       "2  40.80902  -73.94190  United States  ...       $124             3.0   \n",
       "3  40.68514  -73.95976  United States  ...        $74            30.0   \n",
       "4  40.79851  -73.94399  United States  ...        $41            10.0   \n",
       "\n",
       "  number_of_reviews last_review  reviews_per_month review_rate_number  \\\n",
       "0               9.0  10/19/2021               0.21                4.0   \n",
       "1              45.0   5/21/2022               0.38                4.0   \n",
       "2               0.0         NaN                NaN                5.0   \n",
       "3             270.0  07/05/2019               4.64                4.0   \n",
       "4               9.0  11/19/2018               0.10                3.0   \n",
       "\n",
       "  calculated_host_listings_count  availability_365  \\\n",
       "0                            6.0             286.0   \n",
       "1                            2.0             228.0   \n",
       "2                            1.0             352.0   \n",
       "3                            1.0             322.0   \n",
       "4                            1.0             289.0   \n",
       "\n",
       "                                         house_rules license  \n",
       "0  Clean up and treat the home the way you'd like...     NaN  \n",
       "1  Pet friendly but please confirm with me if the...     NaN  \n",
       "2  I encourage you to use my kitchen, cooking and...     NaN  \n",
       "3                                                NaN     NaN  \n",
       "4  Please no smoking in the house, porch or on th...     NaN  \n",
       "\n",
       "[5 rows x 26 columns]"
      ]
     },
     "execution_count": 5,
     "metadata": {},
     "output_type": "execute_result"
    }
   ],
   "source": [
    "\n",
    "#Getting general informatin about the dataset\n",
    "#using the data.head() will return the first five rows and the number of columns in the dataset.\n",
    "data.head()"
   ]
  },
  {
   "cell_type": "markdown",
   "metadata": {},
   "source": [
    "From the sample dataset shown above(the first five rows),it is clear that there are some missing values."
   ]
  },
  {
   "cell_type": "code",
   "execution_count": 6,
   "metadata": {},
   "outputs": [
    {
     "data": {
      "text/html": [
       "<div>\n",
       "<style scoped>\n",
       "    .dataframe tbody tr th:only-of-type {\n",
       "        vertical-align: middle;\n",
       "    }\n",
       "\n",
       "    .dataframe tbody tr th {\n",
       "        vertical-align: top;\n",
       "    }\n",
       "\n",
       "    .dataframe thead th {\n",
       "        text-align: right;\n",
       "    }\n",
       "</style>\n",
       "<table border=\"1\" class=\"dataframe\">\n",
       "  <thead>\n",
       "    <tr style=\"text-align: right;\">\n",
       "      <th></th>\n",
       "      <th>id</th>\n",
       "      <th>host_id</th>\n",
       "      <th>latitude</th>\n",
       "      <th>longitude</th>\n",
       "      <th>Construction_year</th>\n",
       "      <th>minimum_nights</th>\n",
       "      <th>number_of_reviews</th>\n",
       "      <th>reviews_per_month</th>\n",
       "      <th>review_rate_number</th>\n",
       "      <th>calculated_host_listings_count</th>\n",
       "      <th>availability_365</th>\n",
       "      <th>license</th>\n",
       "    </tr>\n",
       "  </thead>\n",
       "  <tbody>\n",
       "    <tr>\n",
       "      <th>count</th>\n",
       "      <td>5.093000e+03</td>\n",
       "      <td>5.093000e+03</td>\n",
       "      <td>5085.000000</td>\n",
       "      <td>5085.000000</td>\n",
       "      <td>4958.000000</td>\n",
       "      <td>5009.000000</td>\n",
       "      <td>5085.00000</td>\n",
       "      <td>4629.000000</td>\n",
       "      <td>5000.000000</td>\n",
       "      <td>5070.000000</td>\n",
       "      <td>4945.000000</td>\n",
       "      <td>0.0</td>\n",
       "    </tr>\n",
       "    <tr>\n",
       "      <th>mean</th>\n",
       "      <td>2.407492e+06</td>\n",
       "      <td>4.873079e+10</td>\n",
       "      <td>40.728916</td>\n",
       "      <td>-73.960927</td>\n",
       "      <td>2012.367689</td>\n",
       "      <td>10.756838</td>\n",
       "      <td>56.79646</td>\n",
       "      <td>0.898289</td>\n",
       "      <td>3.002400</td>\n",
       "      <td>2.501578</td>\n",
       "      <td>208.590698</td>\n",
       "      <td>NaN</td>\n",
       "    </tr>\n",
       "    <tr>\n",
       "      <th>std</th>\n",
       "      <td>8.120836e+05</td>\n",
       "      <td>2.849726e+10</td>\n",
       "      <td>0.051496</td>\n",
       "      <td>0.035624</td>\n",
       "      <td>5.782151</td>\n",
       "      <td>59.067771</td>\n",
       "      <td>76.66971</td>\n",
       "      <td>1.087883</td>\n",
       "      <td>1.419154</td>\n",
       "      <td>6.263080</td>\n",
       "      <td>125.781793</td>\n",
       "      <td>NaN</td>\n",
       "    </tr>\n",
       "    <tr>\n",
       "      <th>min</th>\n",
       "      <td>1.001254e+06</td>\n",
       "      <td>1.316021e+08</td>\n",
       "      <td>40.508680</td>\n",
       "      <td>-74.239860</td>\n",
       "      <td>2003.000000</td>\n",
       "      <td>-12.000000</td>\n",
       "      <td>0.00000</td>\n",
       "      <td>0.010000</td>\n",
       "      <td>1.000000</td>\n",
       "      <td>1.000000</td>\n",
       "      <td>-10.000000</td>\n",
       "      <td>NaN</td>\n",
       "    </tr>\n",
       "    <tr>\n",
       "      <th>25%</th>\n",
       "      <td>1.704414e+06</td>\n",
       "      <td>2.395762e+10</td>\n",
       "      <td>40.688640</td>\n",
       "      <td>-73.984550</td>\n",
       "      <td>2007.000000</td>\n",
       "      <td>2.000000</td>\n",
       "      <td>5.00000</td>\n",
       "      <td>0.150000</td>\n",
       "      <td>2.000000</td>\n",
       "      <td>1.000000</td>\n",
       "      <td>99.000000</td>\n",
       "      <td>NaN</td>\n",
       "    </tr>\n",
       "    <tr>\n",
       "      <th>50%</th>\n",
       "      <td>2.407492e+06</td>\n",
       "      <td>4.810433e+10</td>\n",
       "      <td>40.722900</td>\n",
       "      <td>-73.960630</td>\n",
       "      <td>2012.000000</td>\n",
       "      <td>3.000000</td>\n",
       "      <td>23.00000</td>\n",
       "      <td>0.460000</td>\n",
       "      <td>3.000000</td>\n",
       "      <td>1.000000</td>\n",
       "      <td>209.000000</td>\n",
       "      <td>NaN</td>\n",
       "    </tr>\n",
       "    <tr>\n",
       "      <th>75%</th>\n",
       "      <td>3.110570e+06</td>\n",
       "      <td>7.351923e+10</td>\n",
       "      <td>40.762920</td>\n",
       "      <td>-73.944990</td>\n",
       "      <td>2017.000000</td>\n",
       "      <td>6.000000</td>\n",
       "      <td>78.00000</td>\n",
       "      <td>1.260000</td>\n",
       "      <td>4.000000</td>\n",
       "      <td>2.000000</td>\n",
       "      <td>318.000000</td>\n",
       "      <td>NaN</td>\n",
       "    </tr>\n",
       "    <tr>\n",
       "      <th>max</th>\n",
       "      <td>3.813648e+06</td>\n",
       "      <td>9.872629e+10</td>\n",
       "      <td>40.908040</td>\n",
       "      <td>-73.733230</td>\n",
       "      <td>2022.000000</td>\n",
       "      <td>3455.000000</td>\n",
       "      <td>607.00000</td>\n",
       "      <td>10.000000</td>\n",
       "      <td>5.000000</td>\n",
       "      <td>52.000000</td>\n",
       "      <td>426.000000</td>\n",
       "      <td>NaN</td>\n",
       "    </tr>\n",
       "  </tbody>\n",
       "</table>\n",
       "</div>"
      ],
      "text/plain": [
       "                 id       host_id     latitude    longitude  \\\n",
       "count  5.093000e+03  5.093000e+03  5085.000000  5085.000000   \n",
       "mean   2.407492e+06  4.873079e+10    40.728916   -73.960927   \n",
       "std    8.120836e+05  2.849726e+10     0.051496     0.035624   \n",
       "min    1.001254e+06  1.316021e+08    40.508680   -74.239860   \n",
       "25%    1.704414e+06  2.395762e+10    40.688640   -73.984550   \n",
       "50%    2.407492e+06  4.810433e+10    40.722900   -73.960630   \n",
       "75%    3.110570e+06  7.351923e+10    40.762920   -73.944990   \n",
       "max    3.813648e+06  9.872629e+10    40.908040   -73.733230   \n",
       "\n",
       "       Construction_year  minimum_nights  number_of_reviews  \\\n",
       "count        4958.000000     5009.000000         5085.00000   \n",
       "mean         2012.367689       10.756838           56.79646   \n",
       "std             5.782151       59.067771           76.66971   \n",
       "min          2003.000000      -12.000000            0.00000   \n",
       "25%          2007.000000        2.000000            5.00000   \n",
       "50%          2012.000000        3.000000           23.00000   \n",
       "75%          2017.000000        6.000000           78.00000   \n",
       "max          2022.000000     3455.000000          607.00000   \n",
       "\n",
       "       reviews_per_month  review_rate_number  calculated_host_listings_count  \\\n",
       "count        4629.000000         5000.000000                     5070.000000   \n",
       "mean            0.898289            3.002400                        2.501578   \n",
       "std             1.087883            1.419154                        6.263080   \n",
       "min             0.010000            1.000000                        1.000000   \n",
       "25%             0.150000            2.000000                        1.000000   \n",
       "50%             0.460000            3.000000                        1.000000   \n",
       "75%             1.260000            4.000000                        2.000000   \n",
       "max            10.000000            5.000000                       52.000000   \n",
       "\n",
       "       availability_365  license  \n",
       "count       4945.000000      0.0  \n",
       "mean         208.590698      NaN  \n",
       "std          125.781793      NaN  \n",
       "min          -10.000000      NaN  \n",
       "25%           99.000000      NaN  \n",
       "50%          209.000000      NaN  \n",
       "75%          318.000000      NaN  \n",
       "max          426.000000      NaN  "
      ]
     },
     "execution_count": 6,
     "metadata": {},
     "output_type": "execute_result"
    }
   ],
   "source": [
    "#getting general statistics of the dataset\n",
    "# the describe() function returns the descriptive statistics of the  columns with numeric data.\n",
    "data.describe()"
   ]
  },
  {
   "cell_type": "markdown",
   "metadata": {},
   "source": [
    "The describe() function shows the count of the data in each column,the average values,standard deviation,minimum and maximum values and the 25%,50% and 70% percentile values.\n"
   ]
  },
  {
   "cell_type": "code",
   "execution_count": 7,
   "metadata": {},
   "outputs": [
    {
     "name": "stdout",
     "output_type": "stream",
     "text": [
      "5093\n",
      "26\n"
     ]
    }
   ],
   "source": [
    "#Checking for number of columns\n",
    "no_of_rows=data.shape[0]\n",
    "no_of_columns=data.shape[1]\n",
    "print(no_of_rows)\n",
    "print(no_of_columns)"
   ]
  },
  {
   "cell_type": "markdown",
   "metadata": {},
   "source": [
    "This dataset has 5093 rows and 26 columns."
   ]
  },
  {
   "cell_type": "code",
   "execution_count": 8,
   "metadata": {},
   "outputs": [
    {
     "data": {
      "text/plain": [
       "id                                  int64\n",
       "name                               object\n",
       "host_id                             int64\n",
       "host_identity_verified             object\n",
       "host_name                          object\n",
       "neighbourhood_group                object\n",
       "neighbourhood                      object\n",
       "latitude                          float64\n",
       "longitude                         float64\n",
       "country                            object\n",
       "country_code                       object\n",
       "instant_bookable                   object\n",
       "cancellation_policy                object\n",
       "room_type                          object\n",
       "Construction_year                 float64\n",
       "price                              object\n",
       "service_fee                        object\n",
       "minimum_nights                    float64\n",
       "number_of_reviews                 float64\n",
       "last_review                        object\n",
       "reviews_per_month                 float64\n",
       "review_rate_number                float64\n",
       "calculated_host_listings_count    float64\n",
       "availability_365                  float64\n",
       "house_rules                        object\n",
       "license                           float64\n",
       "dtype: object"
      ]
     },
     "execution_count": 8,
     "metadata": {},
     "output_type": "execute_result"
    }
   ],
   "source": [
    "#Checking the data types in each column using the dtype function.\n",
    "data.dtypes"
   ]
  },
  {
   "cell_type": "markdown",
   "metadata": {},
   "source": [
    "This dataset has three data types;integers(whole numbers),float(numeric values with decimal numbers) and object data types.\n",
    "\n",
    "Integers are data types that consist of whole numbers like 1,20,75.\n",
    "\n",
    "Float data types are numeric values with decimal numbers.\n",
    "\n",
    "Object data types means that some data values have a mixture of both integers and strings."
   ]
  },
  {
   "cell_type": "code",
   "execution_count": 9,
   "metadata": {},
   "outputs": [
    {
     "data": {
      "text/plain": [
       "id                                   0\n",
       "name                                58\n",
       "host_id                              0\n",
       "host_identity_verified              73\n",
       "host_name                           20\n",
       "neighbourhood_group                 27\n",
       "neighbourhood                       16\n",
       "latitude                             8\n",
       "longitude                            8\n",
       "country                             50\n",
       "country_code                        79\n",
       "instant_bookable                    79\n",
       "cancellation_policy                 50\n",
       "room_type                            0\n",
       "Construction_year                  135\n",
       "price                               11\n",
       "service_fee                         15\n",
       "minimum_nights                      84\n",
       "number_of_reviews                    8\n",
       "last_review                        478\n",
       "reviews_per_month                  464\n",
       "review_rate_number                  93\n",
       "calculated_host_listings_count      23\n",
       "availability_365                   148\n",
       "house_rules                       1615\n",
       "license                           5093\n",
       "dtype: int64"
      ]
     },
     "execution_count": 9,
     "metadata": {},
     "output_type": "execute_result"
    }
   ],
   "source": [
    "#DATA CLEANING \n",
    "#HANDLING MISSING VALUES\n",
    "#general view of how many missing values there is per column \n",
    "missing_values_count=data.isnull().sum()\n",
    "missing_values_count[0:26]\n"
   ]
  },
  {
   "cell_type": "markdown",
   "metadata": {},
   "source": [
    "Almost all the columns have missing values apart from the id,room type and host Id columns."
   ]
  },
  {
   "cell_type": "code",
   "execution_count": 10,
   "metadata": {},
   "outputs": [],
   "source": [
    "#DROPPING ROWS WITH MISSING VALUES USING THE dropna() function\n",
    "data.dropna(subset=[\"name\",\"host_identity_verified\",\"host_name\",\"name\",\n",
    "                    \"Construction_year\"],inplace=True)"
   ]
  },
  {
   "cell_type": "markdown",
   "metadata": {},
   "source": [
    "Dropping  some of the columns with missing values made sense because the values were missing probably because they were not recorded and not because they do not exist .\n",
    "\n",
    "Therefore, it makes sense to drop them rather than guessing what they might have been based on the other values in that column and row. \n",
    "\n",
    "You cannot guess the hosts' names and the names of the airbnb hence dropping the rows with this missing information."
   ]
  },
  {
   "cell_type": "code",
   "execution_count": 11,
   "metadata": {},
   "outputs": [],
   "source": [
    "#DROPPING ROWS WITH MISSING NUMERIC VALUES\n",
    "data.dropna(subset=[\"price\",\"service_fee\",],inplace=True)\n",
    "data.dropna(subset=[\"last_review\",\"reviews_per_month\"],inplace=True)"
   ]
  },
  {
   "cell_type": "markdown",
   "metadata": {},
   "source": [
    "It is hard to predict or guess the dates(in the last review column) date hence dropping the rows with the missing values."
   ]
  },
  {
   "cell_type": "code",
   "execution_count": 12,
   "metadata": {},
   "outputs": [],
   "source": [
    "#DATA IMPUTATION USING THE fillna() function\n",
    "data[\"latitude\"].fillna(0,inplace=True)\n",
    "data[\"longitude\"].fillna(0,inplace=True)\n",
    "data[\"number_of_reviews\"].fillna(0,inplace=True)\n",
    "data[\"minimum_nights\"].fillna(0,inplace=True)\n",
    "data[\"availability_365\"].fillna(0,inplace=True)\n",
    "data[\"Construction_year\"].fillna(0,inplace=True)"
   ]
  },
  {
   "cell_type": "markdown",
   "metadata": {},
   "source": [
    "Data imputation basically involves replacing missing data with alternative values rather than dropping the missing data values.\n",
    "\n",
    "In this case,I have replaced the missing values in the above columns with zero to indicate that information on these values was not filled and hence the value zero.\n",
    "\n",
    "Data imputation is important because having too much missing data  may lead to bias in the dataset, which could affect the results of the data during analysis."
   ]
  },
  {
   "cell_type": "code",
   "execution_count": 13,
   "metadata": {},
   "outputs": [],
   "source": [
    "#filling in missing values with alternative information.\n",
    "data[\"country\"].fillna(\"United States\",inplace=True)\n",
    "data[\"country_code\"].fillna(\"US\",inplace=True)"
   ]
  },
  {
   "cell_type": "markdown",
   "metadata": {},
   "source": [
    "Since this is New York's city data,the country must be in the United States and the country code must be US hence replacing the missing values with United states and US respectively .\n",
    "\n",
    "The assumption being that the missing values were just not recorded."
   ]
  },
  {
   "cell_type": "code",
   "execution_count": 14,
   "metadata": {},
   "outputs": [],
   "source": [
    "data[\"neighbourhood_group\"].fillna(\"Manhattan\",inplace=True)\n",
    "data[\"neighbourhood\"].fillna(\"Upper West Side\",inplace=True)\n",
    "data[\"instant_bookable\"].fillna(\"TRUE\",inplace=True)\n",
    "data[\"cancellation_policy\"].fillna(\"moderate\",inplace=True)"
   ]
  },
  {
   "cell_type": "code",
   "execution_count": 15,
   "metadata": {},
   "outputs": [],
   "source": [
    "#DATA IMPUTATION USING THE MEAN FUNCTION\n",
    "data[\"review_rate_number\"].fillna(data[\"review_rate_number\"].mean(),inplace=True)\n",
    "data[\"calculated_host_listings_count\"].fillna(data[\"calculated_host_listings_count\"].mean(),inplace=True)"
   ]
  },
  {
   "cell_type": "code",
   "execution_count": 16,
   "metadata": {},
   "outputs": [],
   "source": [
    "#Filling in the missing values in the house rules and license column\n",
    "data[\"house_rules\"].fillna(\"none\",inplace=True)\n",
    "data[\"license\"].fillna(\"none\",inplace=True)"
   ]
  },
  {
   "cell_type": "markdown",
   "metadata": {},
   "source": [
    "The house rules and licence columns have a lot of missing values.\n",
    "\n",
    "In this case, though, the data is missing because,probably the airbnb owners had no written house rules for their airbnbs.\n",
    "\n",
    "And if there were no house rules then it doesn't make sense to guess what the rules and licence were.\n",
    "\n",
    " For this columns, it would make more sense to add a third value like \"none\" and use that to replace the NA's.\n",
    " \n",
    " none represents no rules or licence."
   ]
  },
  {
   "cell_type": "code",
   "execution_count": 17,
   "metadata": {},
   "outputs": [
    {
     "data": {
      "text/plain": [
       "id                                0\n",
       "name                              0\n",
       "host_id                           0\n",
       "host_identity_verified            0\n",
       "host_name                         0\n",
       "neighbourhood_group               0\n",
       "neighbourhood                     0\n",
       "latitude                          0\n",
       "longitude                         0\n",
       "country                           0\n",
       "country_code                      0\n",
       "instant_bookable                  0\n",
       "cancellation_policy               0\n",
       "room_type                         0\n",
       "Construction_year                 0\n",
       "price                             0\n",
       "service_fee                       0\n",
       "minimum_nights                    0\n",
       "number_of_reviews                 0\n",
       "last_review                       0\n",
       "reviews_per_month                 0\n",
       "review_rate_number                0\n",
       "calculated_host_listings_count    0\n",
       "availability_365                  0\n",
       "house_rules                       0\n",
       "license                           0\n",
       "dtype: int64"
      ]
     },
     "execution_count": 17,
     "metadata": {},
     "output_type": "execute_result"
    }
   ],
   "source": [
    "#checking if the rows with missing values have been filled and dropped\n",
    "missing_values_count=data.isnull().sum()\n",
    "missing_values_count[0:26]"
   ]
  },
  {
   "cell_type": "markdown",
   "metadata": {},
   "source": [
    "All the missing values have been filled,replaced with other values and some have been  dropped and this dataset has no missing values."
   ]
  },
  {
   "cell_type": "code",
   "execution_count": 18,
   "metadata": {},
   "outputs": [
    {
     "name": "stdout",
     "output_type": "stream",
     "text": [
      "           id                                              name      host_id  \\\n",
      "0     1001254                Clean & quiet apt home by the park  80014485718   \n",
      "1     1002102                             Skylit Midtown Castle  52335172823   \n",
      "4     1003689  Entire Apt: Spacious Studio/Loft by central park  92037596077   \n",
      "5     1004098         Large Cozy 1 BR Apartment In Midtown East  45498551794   \n",
      "7     1005202                                   BlissArtsSpace!  90821839709   \n",
      "...       ...                                               ...          ...   \n",
      "5088  3811438            Great Room for International Students!  78573634300   \n",
      "5089  3811991                                    Sunny/Cozy 1BD  12514109792   \n",
      "5090  3812543               Home Away from Home-Room in Midtown   7545062881   \n",
      "5091  3813095                Amazing LOFT in Prime Williamsburg  34705707902   \n",
      "5092  3813648                      Private Room in Williamsburg  16798739375   \n",
      "\n",
      "     host_identity_verified host_name neighbourhood_group       neighbourhood  \\\n",
      "0               unconfirmed  Madaline            Brooklyn          Kensington   \n",
      "1                  verified     Jenna           Manhattan             Midtown   \n",
      "4                  verified    Lyndon           Manhattan         East Harlem   \n",
      "5                  verified  Michelle           Manhattan         Murray Hill   \n",
      "7               unconfirmed      Emma            Brooklyn  Bedford-Stuyvesant   \n",
      "...                     ...       ...                 ...                 ...   \n",
      "5088            unconfirmed    Sharon               Bronx           Wakefield   \n",
      "5089            unconfirmed     Frank            Brooklyn       Crown Heights   \n",
      "5090               verified     Marco           Manhattan      Hell's Kitchen   \n",
      "5091               verified    Maggie            Brooklyn          Greenpoint   \n",
      "5092               verified   Caitlin            Brooklyn        Williamsburg   \n",
      "\n",
      "      latitude  longitude        country  ... service_fee minimum_nights  \\\n",
      "0     40.64749  -73.97237  United States  ...       $193            10.0   \n",
      "1     40.75362  -73.98377  United States  ...        $28            30.0   \n",
      "4     40.79851  -73.94399  United States  ...        $41            10.0   \n",
      "5     40.74767  -73.97500  United States  ...       $115             3.0   \n",
      "7     40.68688  -73.95596  United States  ...       $212            45.0   \n",
      "...        ...        ...            ...  ...         ...            ...   \n",
      "5088  40.88855  -73.85127  United States  ...       $222             7.0   \n",
      "5089  40.67370  -73.95335  United States  ...       $172            30.0   \n",
      "5090  40.76625  -73.99387  United States  ...       $160             3.0   \n",
      "5091  40.71952  -73.94844  United States  ...        $50             5.0   \n",
      "5092  40.71202  -73.96665  United States  ...        $76             5.0   \n",
      "\n",
      "     number_of_reviews last_review  reviews_per_month review_rate_number  \\\n",
      "0                  9.0  10/19/2021               0.21                4.0   \n",
      "1                 45.0   5/21/2022               0.38                4.0   \n",
      "4                  9.0  11/19/2018               0.10                3.0   \n",
      "5                 74.0   6/22/2019               0.59                3.0   \n",
      "7                 49.0  10/05/2017               0.40                5.0   \n",
      "...                ...         ...                ...                ...   \n",
      "5088              12.0   9/15/2018               0.55                3.0   \n",
      "5089              99.0  01/06/2019               1.67                5.0   \n",
      "5090             168.0   6/23/2019               2.88                5.0   \n",
      "5091               1.0   5/14/2016               0.03                5.0   \n",
      "5092               2.0  01/04/2015               0.03                2.0   \n",
      "\n",
      "     calculated_host_listings_count  availability_365  \\\n",
      "0                               6.0             286.0   \n",
      "1                               2.0             228.0   \n",
      "4                               1.0             289.0   \n",
      "5                               1.0             374.0   \n",
      "7                               1.0             219.0   \n",
      "...                             ...               ...   \n",
      "5088                            1.0             342.0   \n",
      "5089                            3.0             219.0   \n",
      "5090                            2.0             356.0   \n",
      "5091                            2.0             185.0   \n",
      "5092                            1.0              44.0   \n",
      "\n",
      "                                            house_rules license  \n",
      "0     Clean up and treat the home the way you'd like...    none  \n",
      "1     Pet friendly but please confirm with me if the...    none  \n",
      "4     Please no smoking in the house, porch or on th...    none  \n",
      "5                     No smoking, please, and no drugs.    none  \n",
      "7     House Guidelines for our BnB We are delighted ...    none  \n",
      "...                                                 ...     ...  \n",
      "5088  Absolutely no smoking!  It is a ground level a...    none  \n",
      "5089                                               none    none  \n",
      "5090  - Check-in is after 12PM (noon) - No smoking! ...    none  \n",
      "5091  No parties or pets.  Please be courteous and k...    none  \n",
      "5092                                               none    none  \n",
      "\n",
      "[4363 rows x 26 columns]\n"
     ]
    }
   ],
   "source": [
    "#checking the total remaining rows after handling missing values\n",
    "print(data)"
   ]
  },
  {
   "cell_type": "markdown",
   "metadata": {},
   "source": [
    "The remaining rows are 4356 after handling missing values."
   ]
  },
  {
   "cell_type": "code",
   "execution_count": 19,
   "metadata": {},
   "outputs": [
    {
     "name": "stdout",
     "output_type": "stream",
     "text": [
      "0    10/19/2021\n",
      "1     5/21/2022\n",
      "4    11/19/2018\n",
      "5     6/22/2019\n",
      "7    10/05/2017\n",
      "Name: last_review, dtype: object\n"
     ]
    }
   ],
   "source": [
    "#checking the datatype of the column that has dates\n",
    "print(data[\"last_review\"].head())"
   ]
  },
  {
   "cell_type": "markdown",
   "metadata": {},
   "source": [
    "The date column has a string datatype.T\n",
    "\n",
    "Normally,the date should be in datetime object in the formart YYYY-MM-DD."
   ]
  },
  {
   "cell_type": "code",
   "execution_count": 20,
   "metadata": {},
   "outputs": [
    {
     "data": {
      "text/plain": [
       "0   2021-10-19\n",
       "1   2022-05-21\n",
       "4   2018-11-19\n",
       "5   2019-06-22\n",
       "7   2017-10-05\n",
       "Name: date_parsed, dtype: datetime64[ns]"
      ]
     },
     "execution_count": 20,
     "metadata": {},
     "output_type": "execute_result"
    }
   ],
   "source": [
    "#changing the date values from objects to datetime data type\n",
    "data[\"date_parsed\"] = pd.to_datetime(data[\"last_review\"], format = \"%m/%d/%Y\")\n",
    "data[\"date_parsed\"].head()"
   ]
  },
  {
   "cell_type": "code",
   "execution_count": 21,
   "metadata": {},
   "outputs": [],
   "source": [
    "#HANDLING DATA INCONSISTENCIES\n",
    "\n",
    "#Rounding data values to 2 decimal places using the round() function\n",
    "data[\"review_rate_number\"] = data[\"review_rate_number\"].round(2)\n",
    "data[\"reviews_per_month\"] = data[\"reviews_per_month\"].round(2)\n",
    "data[\"calculated_host_listings_count\"] = data[\"calculated_host_listings_count\"].round(2)"
   ]
  },
  {
   "cell_type": "markdown",
   "metadata": {},
   "source": [
    "The columns above contain data values with more than 2 decimal places.\n",
    "\n",
    "The data values have been rounded off to two decimal places but the whole value remain unchanged.\n",
    "\n",
    "Handling data inconsistencies involves correcting wrong data entry,or mistakes in data integration and processing.\n",
    "\n",
    "Inconsistent data leads to wrong interpretation of results or wrong analysis."
   ]
  },
  {
   "cell_type": "code",
   "execution_count": 22,
   "metadata": {},
   "outputs": [],
   "source": [
    "#correcting columns with wrong values/incorrect data\n",
    "#identifying the rows that have incorrect data using boolean indexing\n",
    "incorrect_rows= data[data[\"house_rules\"] == \"#NAME?\"]\n",
    "#correcting the rows\n",
    "data.loc[data[\"house_rules\"] == \"#NAME?\",\"house_rules\"] = \"none\""
   ]
  },
  {
   "cell_type": "code",
   "execution_count": 23,
   "metadata": {},
   "outputs": [],
   "source": [
    "#CHECKING THE DATA DISTRIBUTION\n",
    "#CHECKING THE FREQUENCY OF THE UNIQUE VALUES IN THE CATEGORICAL COLUMNS using the value.count()column\n",
    "#column1\n",
    "host_counts= data[\"host_identity_verified\"].value_counts()\n",
    "#column2\n",
    "neighbors_counts= data[\"neighbourhood_group\"].value_counts()\n",
    "data.loc[data[\"neighbourhood_group\"] == \"brookln\",\"neighbourhood_group\"] = \"Brooklyn\"\n",
    "\n",
    "#column3\n",
    "booking_counts= data[\"instant_bookable\"].value_counts()\n",
    "\n",
    "#column4\n",
    "policy_counts= data[\"cancellation_policy\"].value_counts()\n",
    "\n",
    "#column5\n",
    "room_counts= data[\"room_type\"].value_counts()\n"
   ]
  },
  {
   "cell_type": "markdown",
   "metadata": {},
   "source": [
    "The value.counts() function shows the frequency distribution of unique values in the specified  categorical columns.\n",
    "\n",
    "Frequency distribution of unique values in each specified column helps one understand the distribution of categorical values.\n",
    "\n",
    "This way,it is easier to detect inconsistencies and outliers in the data and choose a method to handle the outliers.\n"
   ]
  },
  {
   "cell_type": "code",
   "execution_count": 24,
   "metadata": {},
   "outputs": [
    {
     "data": {
      "image/png": "[encoded data removed]",
      "text/plain": [
       "<Figure size 640x480 with 1 Axes>"
      ]
     },
     "metadata": {},
     "output_type": "display_data"
    }
   ],
   "source": [
    "#DATA EXPLORATION\n",
    "\n",
    "#HANDLING OUTLIERS\n",
    "import matplotlib.pyplot as plt\n",
    "data[\"review_rate_number\"].hist()\n",
    "plt.show()"
   ]
  },
  {
   "cell_type": "markdown",
   "metadata": {},
   "source": [
    "Data exploration is an important part of data cleaning because it shows an overview of how data is distributed and one can determine common values and detect outliers in the data.\n",
    "\n",
    "Outliers are data points that are deviated far from the rest data points.\n",
    "\n",
    "There are no outliers in the review_rate_number column."
   ]
  },
  {
   "cell_type": "markdown",
   "metadata": {},
   "source": [
    "There are outliers present in the minimum night column.\n",
    "\n",
    "Outliers are data points that are far away from the main cluster of points in the scatter plot. \n",
    "\n",
    "In this case,the main cluster of points are aroun 0 and 100."
   ]
  },
  {
   "cell_type": "code",
   "execution_count": 25,
   "metadata": {},
   "outputs": [],
   "source": [
    "#HANDLING OUTLIERS IN THE MINIMUM NIGHTS COLUMN\n",
    "#REMOVE THE ROWS THAT HAVE NEGATIVE DATA VALUES IN THIS COLUMN using boolean indexing\n",
    "data = data[data[\"minimum_nights\"] >= 0]\n"
   ]
  },
  {
   "cell_type": "code",
   "execution_count": 30,
   "metadata": {},
   "outputs": [],
   "source": [
    "excel_file_path=r\"C:\\\\Users\\\\USER\\\\Downloads\\\\Airbnb_data.xlsx\"\n",
    "data.to_excel(excel_file_path, index=False)"
   ]
  },
  {
   "cell_type": "code",
   "execution_count": null,
   "metadata": {},
   "outputs": [],
   "source": [
    "data=pd.read_csv(\"Open Airbnb Data.csv\")"
   ]
  }
 ],
 "metadata": {
  "kernelspec": {
   "display_name": "Python 3",
   "language": "python",
   "name": "python3"
  },
  "language_info": {
   "codemirror_mode": {
    "name": "ipython",
    "version": 3
   },
   "file_extension": ".py",
   "mimetype": "text/x-python",
   "name": "python",
   "nbconvert_exporter": "python",
   "pygments_lexer": "ipython3",
   "version": "3.11.4"
  },
  "orig_nbformat": 4
 },
 "nbformat": 4,
 "nbformat_minor": 2
}
